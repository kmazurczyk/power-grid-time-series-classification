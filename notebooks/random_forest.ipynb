{
 "cells": [
  {
   "cell_type": "markdown",
   "metadata": {},
   "source": [
    "# Model 2: Random Forest\n",
    "\n",
    "* RandomForst and combinations of feature selection, nested y classes\n",
    "* BoostedClassifer \n",
    "* timeseriessplit for train/test split and cross validation, given sequenced data"
   ]
  },
  {
   "cell_type": "code",
   "execution_count": 43,
   "metadata": {},
   "outputs": [],
   "source": [
    "from dotenv import load_dotenv\n",
    "import sys\n",
    "import warnings\n",
    "\n",
    "from __init__ import get_base_path\n",
    "import data.load_data as load_data\n",
    "import models.model_utils as models\n",
    "\n",
    "from sklearn.compose import ColumnTransformer\n",
    "from sklearn.ensemble import RandomForestClassifier, GradientBoostingClassifier\n",
    "from sklearn.inspection import permutation_importance\n",
    "from sklearn.model_selection import TimeSeriesSplit, GridSearchCV\n",
    "from sklearn.preprocessing import LabelEncoder, StandardScaler\n",
    "from sklearn.pipeline import Pipeline\n",
    "from sklearn.metrics import auc, accuracy_score, precision_score, recall_score, f1_score, \\\n",
    "    confusion_matrix, multilabel_confusion_matrix, ConfusionMatrixDisplay, classification_report, \\\n",
    "    roc_curve, RocCurveDisplay\n",
    "\n",
    "import numpy as np\n",
    "import os\n",
    "import pandas as pd\n",
    "from pandas.api.types import is_numeric_dtype\n",
    "from matplotlib import pyplot as plt\n",
    "import seaborn as sns\n",
    "\n",
    "load_dotenv()\n",
    "warnings.filterwarnings('ignore')"
   ]
  },
  {
   "cell_type": "code",
   "execution_count": 44,
   "metadata": {},
   "outputs": [],
   "source": [
    "random_state = int(os.getenv('RANDOM_SEED'))"
   ]
  },
  {
   "cell_type": "markdown",
   "metadata": {},
   "source": [
    "# Load Data"
   ]
  },
  {
   "cell_type": "code",
   "execution_count": 45,
   "metadata": {},
   "outputs": [
    {
     "name": "stdout",
     "output_type": "stream",
     "text": [
      "(78288, 232)\n"
     ]
    }
   ],
   "source": [
    "csv_file = load_data.combined_csv\n",
    "\n",
    "df = load_data.load_from_csv(csv_file)\n",
    "\n",
    "pd.set_option('display.max_columns', df.shape[1])\n",
    "pd.set_option('display.max_rows', df.shape[0])"
   ]
  },
  {
   "cell_type": "markdown",
   "metadata": {},
   "source": [
    "# Training Loop\n",
    "\n",
    "* iterate X, y feature combinations\n",
    "* train, test, split - time series split given signal sequence\n",
    "* scale and one-hot encode\n",
    "* train\n",
    "* evaluate"
   ]
  },
  {
   "cell_type": "code",
   "execution_count": 46,
   "metadata": {},
   "outputs": [],
   "source": [
    "features = models.FeatureStore(df)\n",
    "\n",
    "X_features = [['R1_Phase_A_power_wave'], features.R1_waves, features.R1_R2_waves] # features.all_power_waves\n",
    "y_features = [features.y_binary, features.y_tertiary, features.y_broad_class, features.y_full_class]"
   ]
  },
  {
   "cell_type": "code",
   "execution_count": null,
   "metadata": {},
   "outputs": [],
   "source": [
    "# TRAINING WITH TIME SERIES CROSS VALIDATION\n",
    "timecv = TimeSeriesSplit(n_splits=5)\n",
    "clf = RandomForestClassifier(random_state=random_state)\n",
    "\n",
    "exp = models.SK_Classification_Experiment(df, X_features, y_features, estimators=[clf])\n",
    "exp.run_experiments()"
   ]
  },
  {
   "cell_type": "markdown",
   "metadata": {},
   "source": [
    "# Evaluation - Classification Reports"
   ]
  },
  {
   "cell_type": "markdown",
   "metadata": {},
   "source": [
    "### Binary Class Predictions"
   ]
  },
  {
   "cell_type": "code",
   "execution_count": null,
   "metadata": {},
   "outputs": [],
   "source": [
    "binary_predictions = [i for i in exp.experiment_scores if i['y_features'] == features.y_binary]\n",
    "\n",
    "for i in binary_predictions:\n",
    "    print(i['X_features'])\n",
    "    print('Training Scores')\n",
    "    print(i['training_classification_report'])\n",
    "    print('Test Scores')\n",
    "    print(i['test_classification_report'])"
   ]
  },
  {
   "cell_type": "markdown",
   "metadata": {},
   "source": [
    "### Tertiary Class Predictions"
   ]
  },
  {
   "cell_type": "code",
   "execution_count": null,
   "metadata": {},
   "outputs": [],
   "source": [
    "tertiary_predictions = [i for i in exp.experiment_scores if i['y_features'] == features.y_tertiary]\n",
    "\n",
    "for i in tertiary_predictions:\n",
    "    print(i['X_features'])\n",
    "    print('Training Scores')\n",
    "    print(i['training_classification_report'])\n",
    "    print('Test Scores')\n",
    "    print(i['test_classification_report'])"
   ]
  },
  {
   "cell_type": "markdown",
   "metadata": {},
   "source": [
    "### Broad Class Predictions"
   ]
  },
  {
   "cell_type": "code",
   "execution_count": null,
   "metadata": {},
   "outputs": [],
   "source": [
    "broad_class_predictions = [i for i in exp.experiment_scores if i['y_features'] == features.y_broad_class]\n",
    "\n",
    "for i in broad_class_predictions:\n",
    "    print(i['X_features'])\n",
    "    print('Training Scores')\n",
    "    print(i['training_classification_report'])\n",
    "    print('Test Scores')\n",
    "    print(i['test_classification_report'])"
   ]
  },
  {
   "cell_type": "markdown",
   "metadata": {},
   "source": [
    "### Full Class Predictions"
   ]
  },
  {
   "cell_type": "code",
   "execution_count": null,
   "metadata": {},
   "outputs": [],
   "source": [
    "full_class_predictions = [i for i in exp.experiment_scores if i['y_features'] == features.y_full_class]\n",
    "\n",
    "for i in full_class_predictions:\n",
    "    print(i['X_features'])\n",
    "    print('Training Scores')\n",
    "    print(i['training_classification_report'])\n",
    "    print('Test Scores')\n",
    "    print(i['test_classification_report'])"
   ]
  },
  {
   "cell_type": "markdown",
   "metadata": {},
   "source": [
    "# Evaluation - Get Feature Importance\n",
    "\n",
    "Compare coefficients across the top and worst performing models.\n",
    "\n",
    "* The binary/tertiary models were 'best performing' model by metric. The full class model with R1 & R2 features was among the worst performing experiments by metric. Both models assigned constant/equal importance to each feature... not helpful."
   ]
  },
  {
   "cell_type": "code",
   "execution_count": null,
   "metadata": {},
   "outputs": [],
   "source": [
    "def plot_importance(X_cols, clf):\n",
    "    importance = [(i, j) for i, j in zip(X_cols, np.round(clf.feature_importances_,2))]\n",
    "\n",
    "    importance = pd.DataFrame(importance, columns=['feature','importance'], index=range(len(importance)))\n",
    "    importance.sort_values(by='importance',ascending=False,inplace=True)\n",
    "\n",
    "    # largest and smallest coeff\n",
    "    top_importance = importance.head(8)\n",
    "    bottom_importance = importance.tail(8)\n",
    "\n",
    "    fig, ax = plt.subplots(2,1, figsize=(12.5,4))\n",
    "   \n",
    "    # plot top coeff\n",
    "    g0 = ax[0].barh(top_importance['feature'],top_importance['importance'])\n",
    "    ax[0].set_title('Top Features (Importance)')\n",
    "    ax[0].bar_label(g0, fmt=lambda x: f'{x:.2f}')\n",
    "\n",
    "    # plot bottom coeff\n",
    "    g1 = ax[1].barh(bottom_importance['feature'],bottom_importance['importance'])\n",
    "    ax[1].set_title('Bottom Features (Importance)')\n",
    "    ax[1].bar_label(g1, fmt=lambda x: f'{x:.2f}')\n",
    "\n",
    "    plt.tight_layout()\n",
    "    plt.show()\n",
    "\n",
    "    return importance"
   ]
  },
  {
   "cell_type": "code",
   "execution_count": null,
   "metadata": {},
   "outputs": [],
   "source": [
    "# # binary example - 4th index is R1 wave features\n",
    "# clf = exp.experiment_scores[4]['estimator']\n",
    "# X_features = exp.experiment_scores[4]['X_features']\n",
    "\n",
    "# print(X_features)\n",
    "# print(exp.experiment_scores[4]['y_features'])\n",
    "\n",
    "# plot_importance(X_features, clf)"
   ]
  },
  {
   "cell_type": "code",
   "execution_count": null,
   "metadata": {},
   "outputs": [],
   "source": [
    "# # full class model - 11th index is R1R2 wave features\n",
    "# clf = exp.experiment_scores[11]['estimator']\n",
    "# X_features = exp.experiment_scores[11]['X_features']\n",
    "\n",
    "# print(X_features)\n",
    "# print(exp.experiment_scores[11]['y_features'])\n",
    "\n",
    "# plot_importance(X_features, clf)"
   ]
  },
  {
   "cell_type": "markdown",
   "metadata": {},
   "source": [
    "# Evaluation - Confusion Matrix"
   ]
  },
  {
   "cell_type": "code",
   "execution_count": null,
   "metadata": {},
   "outputs": [
    {
     "data": {
      "image/png": "[encoded data removed]",
      "text/plain": [
       "<Figure size 640x480 with 2 Axes>"
      ]
     },
     "metadata": {},
     "output_type": "display_data"
    },
    {
     "data": {
      "image/png": "[encoded data removed]",
      "text/plain": [
       "<Figure size 640x480 with 2 Axes>"
      ]
     },
     "metadata": {},
     "output_type": "display_data"
    }
   ],
   "source": [
    "# binary example - 4th index is R1 wave features\n",
    "y_true = exp.experiment_scores[4]['train_true']\n",
    "y_pred = exp.experiment_scores[4]['train_pred']\n",
    "labels = exp.experiment_scores[4]['y_classes']\n",
    "\n",
    "disp = ConfusionMatrixDisplay.from_predictions(y_true, y_pred, display_labels=labels)\n",
    "disp.plot()\n",
    "plt.show()"
   ]
  },
  {
   "cell_type": "markdown",
   "metadata": {},
   "source": [
    "# Evaluation - ROC"
   ]
  },
  {
   "cell_type": "code",
   "execution_count": null,
   "metadata": {},
   "outputs": [
    {
     "data": {
      "image/png": "[encoded data removed]",
      "text/plain": [
       "<Figure size 640x480 with 1 Axes>"
      ]
     },
     "metadata": {},
     "output_type": "display_data"
    }
   ],
   "source": [
    "# binary example again\n",
    "y_true = exp.experiment_scores[4]['train_true']\n",
    "y_pred = exp.experiment_scores[4]['train_pred']\n",
    "labels = exp.experiment_scores[4]['y_classes']\n",
    "\n",
    "fpr, tpr, thresholds = roc_curve(y_true, y_pred)\n",
    "roc_auc = auc(fpr, tpr)\n",
    "curve = RocCurveDisplay(fpr=fpr, tpr=tpr, roc_auc=roc_auc,estimator_name='Logistic Regression')\n",
    "curve.plot()\n",
    "plt.show()"
   ]
  },
  {
   "cell_type": "markdown",
   "metadata": {},
   "source": [
    "# GradientBoostingClassifier\n"
   ]
  },
  {
   "cell_type": "code",
   "execution_count": null,
   "metadata": {},
   "outputs": [],
   "source": [
    "# # TRAINING WITH TIME SERIES CROSS VALIDATION\n",
    "# timecv = TimeSeriesSplit(n_splits=5)\n",
    "# clf = GradientBoostingClassifier(random_state=random_state)\n",
    "\n",
    "# exp = models.SK_Classification_Experiment(df, X_features, y_features, estimators=[clf])\n",
    "# exp.run_experiments()"
   ]
  },
  {
   "cell_type": "markdown",
   "metadata": {},
   "source": [
    "# Evaluation - Classification Reports"
   ]
  },
  {
   "cell_type": "markdown",
   "metadata": {},
   "source": [
    "### Binary Class Predictions"
   ]
  },
  {
   "cell_type": "code",
   "execution_count": null,
   "metadata": {},
   "outputs": [],
   "source": [
    "# binary_predictions = [i for i in exp.experiment_scores if i['y_features'] == features.y_binary]\n",
    "\n",
    "# for i in binary_predictions:\n",
    "#     print(i['X_features'])\n",
    "#     print('Training Scores')\n",
    "#     print(i['training_classification_report'])\n",
    "#     print('Test Scores')\n",
    "#     print(i['test_classification_report'])"
   ]
  },
  {
   "cell_type": "markdown",
   "metadata": {},
   "source": [
    "### Tertiary Class Predictions"
   ]
  },
  {
   "cell_type": "code",
   "execution_count": null,
   "metadata": {},
   "outputs": [],
   "source": [
    "# tertiary_predictions = [i for i in exp.experiment_scores if i['y_features'] == features.y_tertiary]\n",
    "\n",
    "# for i in tertiary_predictions:\n",
    "#     print(i['X_features'])\n",
    "#     print('Training Scores')\n",
    "#     print(i['training_classification_report'])\n",
    "#     print('Test Scores')\n",
    "#     print(i['test_classification_report'])"
   ]
  },
  {
   "cell_type": "markdown",
   "metadata": {},
   "source": [
    "### Broad Class Predictions"
   ]
  },
  {
   "cell_type": "code",
   "execution_count": null,
   "metadata": {},
   "outputs": [],
   "source": [
    "# broad_class_predictions = [i for i in exp.experiment_scores if i['y_features'] == features.y_broad_class]\n",
    "\n",
    "# for i in broad_class_predictions:\n",
    "#     print(i['X_features'])\n",
    "#     print('Training Scores')\n",
    "#     print(i['training_classification_report'])\n",
    "#     print('Test Scores')\n",
    "#     print(i['test_classification_report'])"
   ]
  },
  {
   "cell_type": "markdown",
   "metadata": {},
   "source": [
    "### Full Class Predictions"
   ]
  },
  {
   "cell_type": "code",
   "execution_count": null,
   "metadata": {},
   "outputs": [],
   "source": [
    "# full_class_predictions = [i for i in exp.experiment_scores if i['y_features'] == features.y_full_class]\n",
    "\n",
    "# for i in full_class_predictions:\n",
    "#     print(i['X_features'])\n",
    "#     print('Training Scores')\n",
    "#     print(i['training_classification_report'])\n",
    "#     print('Test Scores')\n",
    "#     print(i['test_classification_report'])"
   ]
  },
  {
   "cell_type": "markdown",
   "metadata": {},
   "source": [
    "Boosted Classifier had moderate increase in accuracy and decrease in F1 - looking a lot more like the LogisticRegression model."
   ]
  },
  {
   "cell_type": "code",
   "execution_count": null,
   "metadata": {},
   "outputs": [],
   "source": [
    "# for i in exp.experiment_scores:\n",
    "#     print(i['X_features'])\n",
    "#     print(i['y_features'])\n",
    "#     print(i['test_f1'])\n",
    "#     print(i['test_accuracy'])"
   ]
  }
 ],
 "metadata": {
  "kernelspec": {
   "display_name": "powerenv-3.13.2",
   "language": "python",
   "name": "python3"
  },
  "language_info": {
   "codemirror_mode": {
    "name": "ipython",
    "version": 3
   },
   "file_extension": ".py",
   "mimetype": "text/x-python",
   "name": "python",
   "nbconvert_exporter": "python",
   "pygments_lexer": "ipython3",
   "version": "3.13.2"
  }
 },
 "nbformat": 4,
 "nbformat_minor": 2
}
