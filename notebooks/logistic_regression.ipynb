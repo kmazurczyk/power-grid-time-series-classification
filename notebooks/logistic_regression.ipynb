{
 "cells": [
  {
   "cell_type": "markdown",
   "metadata": {},
   "source": [
    "# Model 1: Logistic Regression\n",
    "\n",
    "1. Logistic Regression\n",
    "2. Random Forest? AdaBoost?\n",
    "3. CNN? RNN?"
   ]
  },
  {
   "cell_type": "code",
   "execution_count": 1,
   "metadata": {},
   "outputs": [
    {
     "name": "stdout",
     "output_type": "stream",
     "text": [
      "/Users/kaimazurczyk/Desktop/power-grid-time-series-classification\n"
     ]
    }
   ],
   "source": [
    "from dotenv import load_dotenv\n",
    "import sys\n",
    "import warnings\n",
    "\n",
    "from __init__ import get_base_path\n",
    "import data.load_data as load_data\n",
    "import models.model_utils as models\n",
    "\n",
    "from sklearn.compose import ColumnTransformer\n",
    "from sklearn.linear_model import LogisticRegressionCV, LogisticRegression\n",
    "from sklearn.model_selection import TimeSeriesSplit, GridSearchCV\n",
    "from sklearn.preprocessing import LabelEncoder, TargetEncoder, StandardScaler\n",
    "from sklearn.pipeline import Pipeline\n",
    "from sklearn.metrics import accuracy_score, confusion_matrix, ConfusionMatrixDisplay, classification_report, roc_curve, RocCurveDisplay\n",
    "\n",
    "import numpy as np\n",
    "import os\n",
    "import pandas as pd\n",
    "from matplotlib import pyplot as plt\n",
    "import seaborn as sns\n",
    "\n",
    "load_dotenv()\n",
    "warnings.filterwarnings('ignore')"
   ]
  },
  {
   "cell_type": "code",
   "execution_count": 2,
   "metadata": {},
   "outputs": [
    {
     "data": {
      "text/plain": [
       "42"
      ]
     },
     "execution_count": 2,
     "metadata": {},
     "output_type": "execute_result"
    }
   ],
   "source": [
    "random_seed = int(os.getenv('RANDOM_SEED'))\n",
    "random_seed"
   ]
  },
  {
   "cell_type": "code",
   "execution_count": 3,
   "metadata": {},
   "outputs": [
    {
     "data": {
      "text/plain": [
       "(78377, 232)"
      ]
     },
     "execution_count": 3,
     "metadata": {},
     "output_type": "execute_result"
    }
   ],
   "source": [
    "csv_file = load_data.combined_csv\n",
    "\n",
    "if os.path.exists(csv_file):\n",
    "    pass\n",
    "else:\n",
    "    load_data.__main__()\n",
    "df = pd.read_csv(csv_file,index_col=0)\n",
    "\n",
    "pd.set_option('display.max_columns', df.shape[1])\n",
    "pd.set_option('display.max_rows', df.shape[0])\n",
    "\n",
    "df.shape"
   ]
  },
  {
   "cell_type": "markdown",
   "metadata": {},
   "source": [
    "# Pre-Processing"
   ]
  },
  {
   "cell_type": "code",
   "execution_count": 4,
   "metadata": {},
   "outputs": [],
   "source": [
    "# data typing that is not retained by CSV\n",
    "dp = load_data.DataPreprocessor(df)\n",
    "df = dp.cast_data_types().get_dataframe()"
   ]
  },
  {
   "cell_type": "markdown",
   "metadata": {},
   "source": [
    "### Initial Feature Selection\n",
    "\n",
    "* remove frequency columns because they are basically constant\n",
    "* remove ids/labels\n",
    "* remove status flags and logs - sparse data. if needed, can try adding them in later\n",
    "* we'll first try the waveform instead of individual angle/magnitude features\n",
    "* we'll first try instant power since it is the product of voltage, current, and impedance, and ignore average power"
   ]
  },
  {
   "cell_type": "code",
   "execution_count": 5,
   "metadata": {},
   "outputs": [],
   "source": [
    "R1_power_features = [i for i in dp.R1_features if '_power_' in i] + ['synthetic_datetime']"
   ]
  },
  {
   "cell_type": "code",
   "execution_count": 6,
   "metadata": {},
   "outputs": [],
   "source": [
    "# X\n",
    "R1_power_X = df.loc[:,R1_power_features]\n",
    "numeric_features = R1_power_X.select_dtypes('number').columns\n",
    "\n",
    "# Y\n",
    "binary_y = df.loc[:,'is_attack']\n",
    "tertiary_y = df.loc[:,'scenario_class']\n",
    "multi_class_y = df.loc[:,'scenario_broad_type']\n",
    "full_class_y = df.loc[:'marker']"
   ]
  },
  {
   "cell_type": "markdown",
   "metadata": {},
   "source": [
    "### Train Test Split - Time Series"
   ]
  },
  {
   "cell_type": "code",
   "execution_count": 7,
   "metadata": {},
   "outputs": [
    {
     "name": "stdout",
     "output_type": "stream",
     "text": [
      "(62702, 7)\n",
      "(62702,)\n",
      "(15675, 7)\n",
      "(15675,)\n"
     ]
    }
   ],
   "source": [
    "X_train, y_train, X_test, y_test = models.timeseries_train_test_split(R1_power_X,binary_y)\n",
    "for i in (X_train, y_train, X_test, y_test):\n",
    "    print(i.shape)"
   ]
  },
  {
   "cell_type": "markdown",
   "metadata": {},
   "source": [
    "### Train Test Split - Random Sampling"
   ]
  },
  {
   "cell_type": "code",
   "execution_count": 8,
   "metadata": {},
   "outputs": [],
   "source": [
    "# X_train, y_train, X_test, y_test = models.grab_bag_train_test_split(R1_power_X,binary_y,df['sample_id'])\n",
    "# for i in X_train, y_train, X_test, y_test:\n",
    "#     print(i.shape)"
   ]
  },
  {
   "cell_type": "markdown",
   "metadata": {},
   "source": []
  },
  {
   "cell_type": "markdown",
   "metadata": {},
   "source": [
    "### Scaling"
   ]
  },
  {
   "cell_type": "code",
   "execution_count": 9,
   "metadata": {},
   "outputs": [],
   "source": [
    "preprocessor = ColumnTransformer(\n",
    "    transformers=[('scaler', StandardScaler(), numeric_features)], remainder='passthrough') #.set_output(transform='pandas')"
   ]
  },
  {
   "cell_type": "markdown",
   "metadata": {},
   "source": [
    "# Logistic Regression"
   ]
  },
  {
   "cell_type": "code",
   "execution_count": 10,
   "metadata": {},
   "outputs": [
    {
     "name": "stdout",
     "output_type": "stream",
     "text": [
      "0.7076010334598577\n",
      "0.7205741626794259\n"
     ]
    }
   ],
   "source": [
    "X_train, X_test = X_train.loc[:,numeric_features], X_test.loc[:,numeric_features]\n",
    "\n",
    "timecv = TimeSeriesSplit(n_splits=5)\n",
    "\n",
    "clf = Pipeline([\n",
    "    ('preprocessor', preprocessor),\n",
    "    ('estimator', LogisticRegressionCV(cv=timecv))\n",
    "])\n",
    "\n",
    "clf.fit(X_train, y_train)\n",
    "print(clf.score(X_train, y_train))\n",
    "print(clf.score(X_test, y_test))"
   ]
  },
  {
   "cell_type": "markdown",
   "metadata": {},
   "source": [
    "### Evaluation"
   ]
  },
  {
   "cell_type": "code",
   "execution_count": 11,
   "metadata": {},
   "outputs": [
    {
     "name": "stdout",
     "output_type": "stream",
     "text": [
      "Using matplotlib backend: module://matplotlib_inline.backend_inline\n"
     ]
    },
    {
     "data": {
      "image/png": "[encoded data removed]",
      "text/plain": [
       "<Figure size 640x480 with 2 Axes>"
      ]
     },
     "metadata": {},
     "output_type": "display_data"
    }
   ],
   "source": [
    "%matplotlib\n",
    "ConfusionMatrixDisplay.from_estimator(\n",
    "        clf,\n",
    "        X_test,\n",
    "        y_test,\n",
    "        display_labels=['no attack','attack'],\n",
    "        normalize='all',\n",
    "    )\n",
    "plt.title('Logistic Regression: Binary \"Is Attack\" Test Set')\n",
    "plt.show()"
   ]
  },
  {
   "cell_type": "code",
   "execution_count": 12,
   "metadata": {},
   "outputs": [
    {
     "data": {
      "text/plain": [
       "is_attack\n",
       "True     0.710196\n",
       "False    0.289804\n",
       "Name: count, dtype: float64"
      ]
     },
     "execution_count": 12,
     "metadata": {},
     "output_type": "execute_result"
    }
   ],
   "source": [
    "df['is_attack'].value_counts() / df['is_attack'].shape[0]"
   ]
  },
  {
   "cell_type": "code",
   "execution_count": 13,
   "metadata": {},
   "outputs": [
    {
     "name": "stdout",
     "output_type": "stream",
     "text": [
      "              precision    recall  f1-score   support\n",
      "\n",
      "   no_attack       0.00      0.00      0.00         0\n",
      "      attack       1.00      0.71      0.83     62702\n",
      "\n",
      "    accuracy                           0.71     62702\n",
      "   macro avg       0.50      0.35      0.41     62702\n",
      "weighted avg       1.00      0.71      0.83     62702\n",
      "\n"
     ]
    }
   ],
   "source": [
    "print(classification_report(clf.predict(X_test), y_test, target_names=['no_attack','attack']))"
   ]
  },
  {
   "cell_type": "code",
   "execution_count": 14,
   "metadata": {},
   "outputs": [
    {
     "data": {
      "image/png": "[encoded data removed]",
      "text/plain": [
       "<Figure size 640x480 with 1 Axes>"
      ]
     },
     "metadata": {},
     "output_type": "display_data"
    }
   ],
   "source": [
    "RocCurveDisplay.from_estimator(clf, X_test, y_test)\n",
    "plt.title('Logistic Regression: Binary \"Is Attack\" Test Set ROC')\n",
    "plt.show()"
   ]
  },
  {
   "cell_type": "markdown",
   "metadata": {},
   "source": [
    "Apparently it's just guessing \"attack\" 100% of the time giving us accuracy in proportion to class size."
   ]
  },
  {
   "cell_type": "markdown",
   "metadata": {},
   "source": [
    "# GridSearchCV"
   ]
  },
  {
   "cell_type": "code",
   "execution_count": 15,
   "metadata": {},
   "outputs": [],
   "source": [
    "class_weights = {str(i):j for i, j in zip(np.unique(y_train,return_counts=True)[0],np.unique(y_train,return_counts=True)[1]/y_train.shape[0])}\n",
    "\n",
    "param_grid = {  'class_weight': [None, 'balanced', class_weights],\n",
    "                'penalty': ['l1','l2'],\n",
    "                'C': [0.1, 0.5, 1.0],\n",
    "}"
   ]
  },
  {
   "cell_type": "code",
   "execution_count": 16,
   "metadata": {},
   "outputs": [
    {
     "name": "stdout",
     "output_type": "stream",
     "text": [
      "0.7073777550955312\n",
      "0.7203189792663477\n"
     ]
    }
   ],
   "source": [
    "grid_clf = Pipeline([('preprocessor',preprocessor), \n",
    "               ('gridsearch', GridSearchCV(LogisticRegression(random_state=random_seed),\n",
    "                    param_grid=param_grid,\n",
    "                    cv=timecv,\n",
    "                    refit=True))\n",
    "               ])\n",
    "\n",
    "grid_clf.fit(X_train, y_train)\n",
    "print(grid_clf.score(X_train, y_train))\n",
    "print(grid_clf.score(X_test, y_test))"
   ]
  },
  {
   "cell_type": "code",
   "execution_count": 17,
   "metadata": {},
   "outputs": [
    {
     "data": {
      "text/plain": [
       "{'C': 0.1, 'class_weight': None, 'penalty': 'l2'}"
      ]
     },
     "execution_count": 17,
     "metadata": {},
     "output_type": "execute_result"
    }
   ],
   "source": [
    "grid_clf['gridsearch'].best_params_"
   ]
  },
  {
   "cell_type": "markdown",
   "metadata": {},
   "source": [
    "Identical result/params to LogRegCV."
   ]
  },
  {
   "cell_type": "code",
   "execution_count": 25,
   "metadata": {},
   "outputs": [
    {
     "name": "stdout",
     "output_type": "stream",
     "text": [
      "scaler__R1_Phase_A_power_wave coefficient: -0.9775570408747203\n",
      "scaler__R1_Phase_A_pos_neg_zero_power_wave coefficient: 0.8876980033583324\n",
      "scaler__R1_Phase_B_power_wave coefficient: -0.05241323057080443\n",
      "scaler__R1_Phase_B_pos_neg_zero_power_wave coefficient: -0.23416131210629082\n",
      "scaler__R1_Phase_C_power_wave coefficient: -0.08232643044574621\n",
      "scaler__R1_Phase_C_pos_neg_zero_power_wave coefficient: 0.12490915829436375\n"
     ]
    }
   ],
   "source": [
    "for i,j in zip(grid_clf[:-1].get_feature_names_out(), grid_clf['gridsearch'].best_estimator_.coef_.ravel()):\n",
    "    print(i, 'coefficient:', j)"
   ]
  },
  {
   "cell_type": "markdown",
   "metadata": {},
   "source": [
    "It's giving the highest 'feature importance' to pos_neg_zero_power which has no variance, hence always predicting 'attack'."
   ]
  }
 ],
 "metadata": {
  "kernelspec": {
   "display_name": "powerenv-3.13.2",
   "language": "python",
   "name": "python3"
  },
  "language_info": {
   "codemirror_mode": {
    "name": "ipython",
    "version": 3
   },
   "file_extension": ".py",
   "mimetype": "text/x-python",
   "name": "python",
   "nbconvert_exporter": "python",
   "pygments_lexer": "ipython3",
   "version": "3.13.2"
  }
 },
 "nbformat": 4,
 "nbformat_minor": 2
}
