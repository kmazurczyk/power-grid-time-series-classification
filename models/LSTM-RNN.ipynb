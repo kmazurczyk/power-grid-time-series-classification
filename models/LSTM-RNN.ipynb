{
 "cells": [
  {
   "cell_type": "markdown",
   "metadata": {},
   "source": [
    "# LSTM\n",
    "\n",
    "* memory lets it evaluate entire, variable length sequences\n",
    "* add data augmentation to supplement the minority class\n",
    "* PyTorch convenient features for packing/padding variable length sequences and data augmentation"
   ]
  },
  {
   "cell_type": "code",
   "execution_count": 1,
   "metadata": {},
   "outputs": [],
   "source": [
    "from dotenv import load_dotenv\n",
    "import sys\n",
    "import warnings\n",
    "\n",
    "from __init__ import get_base_path\n",
    "import data.load_data as load_data\n",
    "from model_utils import FeatureStore, grab_bag_train_test_split, pad_collate, SignalClassificationDataset, AugmentMinorityClass, DynamicLSTM\n",
    "\n",
    "import numpy as np\n",
    "import os\n",
    "import pandas as pd\n",
    "from matplotlib import pyplot as plt\n",
    "from sklearn.preprocessing import LabelEncoder, MinMaxScaler\n",
    "from sklearn.metrics import auc, accuracy_score, precision_score, recall_score, f1_score, \\\n",
    "    confusion_matrix, multilabel_confusion_matrix, ConfusionMatrixDisplay, classification_report, \\\n",
    "    roc_curve, RocCurveDisplay\n",
    "\n",
    "import torch\n",
    "import torch.nn as nn\n",
    "from torch.nn.utils.rnn import pack_padded_sequence, pad_sequence, pad_packed_sequence\n",
    "from torch.utils.data import Dataset, DataLoader, ConcatDataset, Subset\n",
    "import torch.nn.functional as F\n",
    "import torch.optim as optim\n",
    "\n",
    "load_dotenv()\n",
    "warnings.filterwarnings('ignore')\n"
   ]
  },
  {
   "cell_type": "code",
   "execution_count": null,
   "metadata": {},
   "outputs": [],
   "source": [
    "# Mac M1\n",
    "device = \"mps\" if torch.backends.mps.is_available() else \"cpu\"\n",
    "\n",
    "# save model\n",
    "PATH = './base_lstm.pth'"
   ]
  },
  {
   "cell_type": "code",
   "execution_count": 3,
   "metadata": {},
   "outputs": [],
   "source": [
    "random_seed = os.getenv('RANDOM_SEED')\n",
    "torch.manual_seed(random_seed)\n",
    "torch.mps.manual_seed(random_seed)"
   ]
  },
  {
   "cell_type": "markdown",
   "metadata": {},
   "source": [
    "### Load Data"
   ]
  },
  {
   "cell_type": "code",
   "execution_count": 4,
   "metadata": {},
   "outputs": [
    {
     "name": "stdout",
     "output_type": "stream",
     "text": [
      "(78288, 232)\n"
     ]
    }
   ],
   "source": [
    "csv_file = load_data.combined_csv\n",
    "# csv_file = load_data.combined_sample_csv\n",
    "\n",
    "df = load_data.load_from_csv(csv_file)\n",
    "\n",
    "pd.set_option('display.max_columns', df.shape[1])\n",
    "pd.set_option('display.max_rows', df.shape[0])"
   ]
  },
  {
   "cell_type": "markdown",
   "metadata": {},
   "source": [
    "# Feature Selection"
   ]
  },
  {
   "cell_type": "code",
   "execution_count": 5,
   "metadata": {},
   "outputs": [],
   "source": [
    "features = FeatureStore(df)\n",
    "\n",
    "# X_features = ['R1_Phase_A_power_wave']\n",
    "# X_features = features.R1_waves\n",
    "X_features = features.R1_R2_waves\n",
    "\n",
    "# y_features = features.y_binary\n",
    "# y_features = features.y_tertiary\n",
    "y_features = features.y_broad_class\n",
    "# y_features = features.y_full_class\n",
    "\n",
    "X = df.loc[:,X_features + ['sample_id']]\n",
    "y = df.loc[:,y_features]"
   ]
  },
  {
   "cell_type": "markdown",
   "metadata": {},
   "source": [
    "### Train Test Split"
   ]
  },
  {
   "cell_type": "code",
   "execution_count": 6,
   "metadata": {},
   "outputs": [
    {
     "name": "stdout",
     "output_type": "stream",
     "text": [
      "62847\n",
      "62847\n",
      "15441\n",
      "15441\n",
      "442\n",
      "110\n"
     ]
    }
   ],
   "source": [
    "X_train, y_train, X_test, y_test, train_ids, test_ids = grab_bag_train_test_split(X, y, df['sample_id'], return_ids=True)\n",
    "for i in X_train, y_train, X_test, y_test, train_ids, test_ids:\n",
    "    print(len(i))"
   ]
  },
  {
   "cell_type": "markdown",
   "metadata": {},
   "source": [
    "### MinMaxScaler"
   ]
  },
  {
   "cell_type": "code",
   "execution_count": 7,
   "metadata": {},
   "outputs": [],
   "source": [
    "scl = MinMaxScaler()\n",
    "scl.fit(X_train[X_features])\n",
    "X_train[X_features], X_test[X_features] = scl.transform(X_train[X_features]), scl.transform(X_test[X_features])"
   ]
  },
  {
   "cell_type": "markdown",
   "metadata": {},
   "source": [
    "### Encoding\n",
    "\n",
    "* Label Encode Y Classes\n",
    "* Because we will use zero padding we use a custom label encoder"
   ]
  },
  {
   "cell_type": "code",
   "execution_count": 8,
   "metadata": {},
   "outputs": [
    {
     "name": "stdout",
     "output_type": "stream",
     "text": [
      "0 attack fault\n",
      "1 attack maintenance\n",
      "2 command injection\n",
      "3 data injection\n",
      "4 natural fault\n",
      "5 natural maintenance\n",
      "6 no event\n"
     ]
    }
   ],
   "source": [
    "enc = LabelEncoder()\n",
    "\n",
    "enc.fit(y_train)\n",
    "y_train, y_test = enc.transform(y_train), enc.transform(y_test)\n",
    "\n",
    "for (i, c) in tuple(enumerate(enc.classes_)):\n",
    "    print(i, c)"
   ]
  },
  {
   "cell_type": "markdown",
   "metadata": {},
   "source": [
    "### Dataset, DataLoader\n",
    "\n",
    "Original data are tabular, but LTSM can handle variable signal length instead of a fixed window size, which may be better for learning.\n",
    "\n",
    "1. Extract individual sequences\n",
    "2. Apply data augmentation (enhancement is needed for the minority classes)\n",
    "3. Pack each signal using PyTorch padded sequences, this is more efficient than padding manually, and PyTorch known not to compute padded areas."
   ]
  },
  {
   "cell_type": "code",
   "execution_count": null,
   "metadata": {},
   "outputs": [
    {
     "name": "stdout",
     "output_type": "stream",
     "text": [
      "442\n",
      "110\n",
      "442\n",
      "110\n"
     ]
    }
   ],
   "source": [
    "y_class_encodings = [i for (i, c) in tuple(enumerate(enc.classes_))]\n",
    "k_classes = len(y_class_encodings)\n",
    "x_train_vectors, x_test_vectors, y_train_vectors, y_test_vectors = [],[],[],[]\n",
    "\n",
    "for encoding in y_class_encodings:\n",
    "    # subset train and test dataframes for the class label (ie '0'/'attack')\n",
    "    train_filt, test_filt = y_train == encoding, y_test == encoding\n",
    "    X_train_filt, X_test_filt = X_train.loc[train_filt], X_test.loc[test_filt]\n",
    "    train_samples, test_samples = X_train_filt['sample_id'].unique(), X_test_filt['sample_id'].unique()\n",
    "\n",
    "    # partition result by sample_id, and accumulate vectors\n",
    "    for sample in train_samples:\n",
    "        s = X_train_filt.loc[X_train_filt['sample_id'] == sample,X_features]\n",
    "        x_train_vectors += [torch.tensor(s.to_numpy(),dtype=torch.float).to(device)]\n",
    "        y_train_vectors += [torch.tensor(np.full((1,),fill_value=encoding),dtype=torch.long).to(device)]\n",
    "\n",
    "    for sample in test_samples:\n",
    "        s = X_test_filt.loc[X_test_filt['sample_id'] == sample,X_features]\n",
    "        x_test_vectors += [torch.tensor(s.to_numpy(),dtype=torch.float).to(device)]\n",
    "        y_test_vectors += [torch.tensor(np.full((1,),fill_value=encoding),dtype=torch.long).to(device)]\n",
    "\n",
    "for i in x_train_vectors, x_test_vectors, y_train_vectors, y_test_vectors:\n",
    "    print(len(i))"
   ]
  },
  {
   "cell_type": "code",
   "execution_count": 10,
   "metadata": {},
   "outputs": [],
   "source": [
    "train_dataset = SignalClassificationDataset(signals=x_train_vectors,labels=y_train_vectors, device=device)\n",
    "test_dataset = SignalClassificationDataset(signals=x_test_vectors,labels=y_test_vectors, device=device)"
   ]
  },
  {
   "cell_type": "markdown",
   "metadata": {},
   "source": [
    "### Data Augmentation\n",
    "\n",
    "* enhance the 'natural' and 'no event' classes to improve training\n",
    "* each vector is sliced based on a sliding window\n",
    "* each vector has a small amount of random noise applied"
   ]
  },
  {
   "cell_type": "code",
   "execution_count": 11,
   "metadata": {},
   "outputs": [
    {
     "name": "stdout",
     "output_type": "stream",
     "text": [
      "size of new augmented training dataset 538\n"
     ]
    }
   ],
   "source": [
    "target_classes=[1,2] # the ones we want to augment\n",
    "\n",
    "transformed_dataset = SignalClassificationDataset(signals=x_train_vectors,labels=y_train_vectors,device=device,transform=AugmentMinorityClass(target_classes=target_classes, device=device))\n",
    "transformed_indices = [i for i,(x,y) in enumerate(transformed_dataset) if y.item() in target_classes]\n",
    "augmented_dataset = Subset(transformed_dataset, transformed_indices)\n",
    "\n",
    "train_dataset = ConcatDataset((train_dataset,augmented_dataset))\n",
    "print('size of new augmented training dataset', len(train_dataset))"
   ]
  },
  {
   "cell_type": "code",
   "execution_count": 12,
   "metadata": {},
   "outputs": [],
   "source": [
    "# dataloader\n",
    "train_dataloader = DataLoader(train_dataset, batch_size=16, shuffle=True, collate_fn=pad_collate)\n",
    "test_dataloader = DataLoader(test_dataset, batch_size=16, shuffle=True, collate_fn=pad_collate)"
   ]
  },
  {
   "cell_type": "markdown",
   "metadata": {},
   "source": [
    "# Training Loop - Basic LSTM\n",
    "\n",
    "* start with 3 layers, input size = hidden size\n",
    "* adam converges quickly, 100 epochs"
   ]
  },
  {
   "cell_type": "code",
   "execution_count": 13,
   "metadata": {},
   "outputs": [],
   "source": [
    "# model training hyperparameters\n",
    "input_size = len(X_features)\n",
    "output_size = len(y_class_encodings)\n",
    "hidden_size = len(X_features)\n",
    "num_layers = 3\n",
    "drop_out = 0\n",
    "n_epochs = 100\n",
    "learning_rate = 0.001"
   ]
  },
  {
   "cell_type": "code",
   "execution_count": null,
   "metadata": {},
   "outputs": [],
   "source": [
    "model = DynamicLSTM(input_size = input_size,\n",
    "                    hidden_size = hidden_size,\n",
    "                    num_layers = num_layers,\n",
    "                    drop_out = drop_out,\n",
    "                    output_size = output_size)\n",
    "\n",
    "criterion = nn.CrossEntropyLoss()\n",
    "optimizer = optim.Adam(model.parameters(), lr=learning_rate)"
   ]
  },
  {
   "cell_type": "code",
   "execution_count": null,
   "metadata": {},
   "outputs": [],
   "source": [
    "model.to(device)\n",
    "model.train()\n",
    "model.lstm_train(train_dataloader, criterion, optimizer, n_epochs = n_epochs)\n",
    "\n",
    "torch.save(model.state_dict(), PATH)"
   ]
  },
  {
   "cell_type": "code",
   "execution_count": null,
   "metadata": {},
   "outputs": [],
   "source": [
    "training_loss = [loss.cpu().detach().numpy() for loss in model.train_loss_epoch]\n",
    "plt.plot(training_loss)\n",
    "plt.title('training cross entropy loss')\n",
    "plt.tight_layout()"
   ]
  },
  {
   "cell_type": "code",
   "execution_count": null,
   "metadata": {},
   "outputs": [],
   "source": [
    "plt.plot(model.train_accuracy_epoch)\n",
    "plt.title('training accuracy')"
   ]
  },
  {
   "cell_type": "code",
   "execution_count": null,
   "metadata": {},
   "outputs": [],
   "source": [
    "# check weights\n",
    "weights = {name: param.clone() for name, param in model.named_parameters()}\n",
    "weights"
   ]
  },
  {
   "cell_type": "markdown",
   "metadata": {},
   "source": [
    "# Evaluation"
   ]
  },
  {
   "cell_type": "code",
   "execution_count": null,
   "metadata": {},
   "outputs": [],
   "source": [
    "# if open model from file\n",
    "# model = DynamicLSTM(input_size = input_size,\n",
    "#                     hidden_size = hidden_size,\n",
    "#                     num_layers = num_layers,\n",
    "#                     drop_out = drop_out,\n",
    "#                     output_size = output_size)\n",
    "                    \n",
    "# model.load_state_dict(torch.load(PATH, weights_only=True))\n",
    "# model.to(device)\n",
    "\n",
    "# criterion = nn.CrossEntropyLoss()\n",
    "# optimizer = optim.Adam(model.parameters(), lr=learning_rate)"
   ]
  },
  {
   "cell_type": "code",
   "execution_count": null,
   "metadata": {},
   "outputs": [
    {
     "name": "stdout",
     "output_type": "stream",
     "text": [
      "Batch 1, Test Loss 1.8519, Accuracy 0.3125\n",
      "Batch 2, Test Loss 2.0247, Accuracy 0.2500\n",
      "Batch 3, Test Loss 1.6520, Accuracy 0.2708\n",
      "Batch 4, Test Loss 1.6313, Accuracy 0.2812\n",
      "Batch 5, Test Loss 1.6140, Accuracy 0.3000\n",
      "Batch 6, Test Loss 1.6605, Accuracy 0.3229\n",
      "Batch 7, Test Loss 1.4627, Accuracy 0.3364\n"
     ]
    }
   ],
   "source": [
    "# Test - we don't compute gradients\n",
    "model.eval()\n",
    "model.lstm_test(test_dataloader, criterion)"
   ]
  },
  {
   "cell_type": "code",
   "execution_count": 23,
   "metadata": {},
   "outputs": [],
   "source": [
    "# get y_true and y_pred out of dataloader for sk metrics\n",
    "extract_pred = [i.cpu().detach().numpy() for i in model.test_predictions]\n",
    "extract_pred = np.concat([i for i in extract_pred])\n",
    "\n",
    "extract_true = [y.cpu().detach().numpy() for i, (x, y, x_lens, y_lens) in enumerate(test_dataloader)]\n",
    "extract_true = np.concat([i.ravel() for i in extract_true])"
   ]
  },
  {
   "cell_type": "markdown",
   "metadata": {},
   "source": [
    "### Test Classification Report"
   ]
  },
  {
   "cell_type": "code",
   "execution_count": 24,
   "metadata": {},
   "outputs": [
    {
     "name": "stdout",
     "output_type": "stream",
     "text": [
      "                     precision    recall  f1-score   support\n",
      "\n",
      "       attack fault       0.34      1.00      0.50        37\n",
      " attack maintenance       0.00      0.00      0.00         8\n",
      "  command injection       0.00      0.00      0.00        16\n",
      "     data injection       0.00      0.00      0.00        20\n",
      "      natural fault       0.00      0.00      0.00        25\n",
      "natural maintenance       0.00      0.00      0.00         3\n",
      "           no event       0.00      0.00      0.00         1\n",
      "\n",
      "           accuracy                           0.34       110\n",
      "          macro avg       0.05      0.14      0.07       110\n",
      "       weighted avg       0.11      0.34      0.17       110\n",
      "\n"
     ]
    }
   ],
   "source": [
    "print(classification_report(extract_true, extract_pred, labels=y_class_encodings, target_names=enc.classes_))"
   ]
  },
  {
   "cell_type": "markdown",
   "metadata": {},
   "source": [
    "### Confusion Matrix"
   ]
  },
  {
   "cell_type": "code",
   "execution_count": null,
   "metadata": {},
   "outputs": [
    {
     "data": {
      "image/png": "[encoded data removed]",
      "text/plain": [
       "<Figure size 640x480 with 2 Axes>"
      ]
     },
     "metadata": {},
     "output_type": "display_data"
    },
    {
     "data": {
      "image/png": "[encoded data removed]",
      "text/plain": [
       "<Figure size 640x480 with 2 Axes>"
      ]
     },
     "metadata": {},
     "output_type": "display_data"
    }
   ],
   "source": [
    "disp = ConfusionMatrixDisplay.from_predictions(extract_true, extract_pred, display_labels=y_class_encodings)\n",
    "disp.plot()\n",
    "plt.show()"
   ]
  },
  {
   "cell_type": "markdown",
   "metadata": {},
   "source": [
    "### ROC\n",
    "\n",
    "binary cases only"
   ]
  },
  {
   "cell_type": "code",
   "execution_count": null,
   "metadata": {},
   "outputs": [],
   "source": [
    "# fpr, tpr, thresholds = roc_curve(extract_true, extract_pred)\n",
    "# roc_auc = auc(fpr, tpr)\n",
    "# curve = RocCurveDisplay(fpr=fpr, tpr=tpr, roc_auc=roc_auc,estimator_name='LSTM')\n",
    "# curve.plot()\n",
    "# plt.show()"
   ]
  },
  {
   "cell_type": "markdown",
   "metadata": {},
   "source": [
    "### Model Avg Scores"
   ]
  },
  {
   "cell_type": "code",
   "execution_count": null,
   "metadata": {},
   "outputs": [
    {
     "name": "stdout",
     "output_type": "stream",
     "text": [
      "recall 0.14285714285714285\n",
      "precision 0.048051948051948054\n",
      "f1 0.07191448007774538\n",
      "accuracy 0.33636363636363636\n"
     ]
    }
   ],
   "source": [
    "print('recall',recall_score(extract_true, extract_pred, labels=y_class_encodings, average='macro'))\n",
    "print('precision',precision_score(extract_true, extract_pred, labels=y_class_encodings, average='macro'))\n",
    "print('f1',f1_score(extract_true, extract_pred, labels=y_class_encodings, average='macro'))\n",
    "print('accuracy',accuracy_score(extract_true, extract_pred))"
   ]
  }
 ],
 "metadata": {
  "kernelspec": {
   "display_name": "powerenv-3.13.2",
   "language": "python",
   "name": "python3"
  },
  "language_info": {
   "codemirror_mode": {
    "name": "ipython",
    "version": 3
   },
   "file_extension": ".py",
   "mimetype": "text/x-python",
   "name": "python",
   "nbconvert_exporter": "python",
   "pygments_lexer": "ipython3",
   "version": "3.13.2"
  }
 },
 "nbformat": 4,
 "nbformat_minor": 2
}
