{
 "cells": [
  {
   "cell_type": "markdown",
   "metadata": {},
   "source": [
    "# LSTM-RNN"
   ]
  },
  {
   "cell_type": "code",
   "execution_count": 1,
   "metadata": {},
   "outputs": [],
   "source": [
    "from dotenv import load_dotenv\n",
    "import sys\n",
    "import warnings\n",
    "\n",
    "from __init__ import get_base_path\n",
    "import data.load_data as load_data\n",
    "from model_utils import FeatureStore, grab_bag_train_test_split, pad_collate, SignalClassificationDataset, AugmentMinorityClass, DynamicLSTM\n",
    "\n",
    "import numpy as np\n",
    "import os\n",
    "import pandas as pd\n",
    "from matplotlib import pyplot as plt\n",
    "from sklearn.preprocessing import LabelEncoder, MinMaxScaler\n",
    "\n",
    "import torch\n",
    "import torch.nn as nn\n",
    "from torch.nn.utils.rnn import pack_padded_sequence, pad_sequence, pad_packed_sequence\n",
    "from torch.utils.data import Dataset, DataLoader, ConcatDataset, Subset\n",
    "import torch.nn.functional as F\n",
    "import torch.optim as optim\n",
    "\n",
    "load_dotenv()\n",
    "warnings.filterwarnings('ignore')\n"
   ]
  },
  {
   "cell_type": "code",
   "execution_count": 2,
   "metadata": {},
   "outputs": [],
   "source": [
    "rnn_data_dir = get_base_path() + os.getenv('RNN_DATA_DIR')"
   ]
  },
  {
   "cell_type": "code",
   "execution_count": 3,
   "metadata": {},
   "outputs": [
    {
     "data": {
      "text/plain": [
       "<torch._C.Generator at 0x13aa084f0>"
      ]
     },
     "execution_count": 3,
     "metadata": {},
     "output_type": "execute_result"
    }
   ],
   "source": [
    "random_seed = os.getenv('RANDOM_SEED')\n",
    "torch.manual_seed(random_seed)"
   ]
  },
  {
   "cell_type": "markdown",
   "metadata": {},
   "source": [
    "### Load Data"
   ]
  },
  {
   "cell_type": "code",
   "execution_count": 4,
   "metadata": {},
   "outputs": [],
   "source": [
    "csv_file = load_data.combined_csv\n",
    "# csv_file = load_data.combined_sample_csv\n",
    "\n",
    "if os.path.exists(csv_file):\n",
    "    pass\n",
    "else:\n",
    "    load_data.__main__()\n",
    "df = pd.read_csv(csv_file,index_col=0)\n",
    "\n",
    "# datatyping that may not be retained by csv\n",
    "dp = load_data.DataPreprocessor(df)\n",
    "df = dp.cast_data_types().get_dataframe() "
   ]
  },
  {
   "cell_type": "markdown",
   "metadata": {},
   "source": [
    "### Features"
   ]
  },
  {
   "cell_type": "code",
   "execution_count": 5,
   "metadata": {},
   "outputs": [],
   "source": [
    "features = FeatureStore(df)\n",
    "\n",
    "X_features = features.R1_waves\n",
    "y_features = features.y_tertiary\n",
    "# X_features = ['R1_Phase_A_power_wave']\n",
    "\n",
    "X = df.loc[:,X_features + ['sample_id']]\n",
    "y = df.loc[:,y_features]"
   ]
  },
  {
   "cell_type": "markdown",
   "metadata": {},
   "source": [
    "### Train Test Split"
   ]
  },
  {
   "cell_type": "code",
   "execution_count": 6,
   "metadata": {},
   "outputs": [
    {
     "name": "stdout",
     "output_type": "stream",
     "text": [
      "62847\n",
      "62847\n",
      "15441\n",
      "15441\n",
      "442\n",
      "110\n"
     ]
    }
   ],
   "source": [
    "X_train, y_train, X_test, y_test, train_ids, test_ids = grab_bag_train_test_split(X, y, df['sample_id'], return_ids=True)\n",
    "for i in X_train, y_train, X_test, y_test, train_ids, test_ids:\n",
    "    print(len(i))"
   ]
  },
  {
   "cell_type": "markdown",
   "metadata": {},
   "source": [
    "### MinMaxScaler"
   ]
  },
  {
   "cell_type": "code",
   "execution_count": 7,
   "metadata": {},
   "outputs": [],
   "source": [
    "scl = MinMaxScaler()\n",
    "scl.fit(X_train[X_features])\n",
    "X_train[X_features], X_test[X_features] = scl.transform(X_train[X_features]), scl.transform(X_test[X_features])"
   ]
  },
  {
   "cell_type": "markdown",
   "metadata": {},
   "source": [
    "### Encoding\n",
    "\n",
    "* Label Encode Y Classes\n",
    "* Because we will use zero padding we use a custom label encoder"
   ]
  },
  {
   "cell_type": "code",
   "execution_count": 8,
   "metadata": {},
   "outputs": [
    {
     "name": "stdout",
     "output_type": "stream",
     "text": [
      "0 attack\n",
      "1 natural\n",
      "2 no event\n"
     ]
    }
   ],
   "source": [
    "enc = LabelEncoder()\n",
    "# enc = NonZeroLabelEncoder()\n",
    "\n",
    "enc.fit(y_train)\n",
    "y_train, y_test = enc.transform(y_train), enc.transform(y_test)\n",
    "\n",
    "for (i, c) in tuple(enumerate(enc.classes_)):\n",
    "    print(i, c)"
   ]
  },
  {
   "cell_type": "markdown",
   "metadata": {},
   "source": [
    "### Dataset, DataLoader\n",
    "\n",
    "Original data are tabular, but LTSM can handle variable signal length instead of a fixed window size, which may be better for learning.\n",
    "\n",
    "1. Extract individual sequences\n",
    "2. Apply data augmentation (enhancement is needed for the minority classes)\n",
    "3. Pack each signal using PyTorch padded sequences, this is more efficient than padding manually, and PyTorch known not to compute padded areas."
   ]
  },
  {
   "cell_type": "code",
   "execution_count": 9,
   "metadata": {},
   "outputs": [
    {
     "name": "stdout",
     "output_type": "stream",
     "text": [
      "442\n",
      "110\n",
      "442\n",
      "110\n"
     ]
    }
   ],
   "source": [
    "y_class_encodings = [i for (i, c) in tuple(enumerate(enc.classes_))]\n",
    "k_classes = len(y_class_encodings)\n",
    "x_train_vectors, x_test_vectors, y_train_vectors, y_test_vectors = [],[],[],[]\n",
    "\n",
    "for encoding in y_class_encodings:\n",
    "    # subset train and test dataframes for the class label (ie '0'/'attack')\n",
    "    train_filt, test_filt = y_train == encoding, y_test == encoding\n",
    "    X_train_filt, X_test_filt = X_train.loc[train_filt], X_test.loc[test_filt]\n",
    "    train_samples, test_samples = X_train_filt['sample_id'].unique(), X_test_filt['sample_id'].unique()\n",
    "\n",
    "    # partition result by sample_id, and accumulate vectors\n",
    "    for sample in train_samples:\n",
    "        s = X_train_filt.loc[X_train_filt['sample_id'] == sample,X_features]\n",
    "        x_train_vectors += [torch.tensor(s.to_numpy(),dtype=torch.float)]\n",
    "        # y_train_vectors += [torch.tensor(np.full(shape=(len(s),),fill_value=encoding),dtype=torch.float)]\n",
    "        y_train_vectors += [torch.tensor(np.full((1,),fill_value=encoding),dtype=torch.long)]\n",
    "\n",
    "    for sample in test_samples:\n",
    "        s = X_test_filt.loc[X_test_filt['sample_id'] == sample,X_features]\n",
    "        x_test_vectors += [torch.tensor(s.to_numpy(),dtype=torch.float)]\n",
    "        # y_test_vectors += [torch.tensor(np.full(shape=(len(s),),fill_value=encoding),dtype=torch.float)]\n",
    "        y_test_vectors += [torch.tensor(np.full((1,),fill_value=encoding),dtype=torch.long)]\n",
    "\n",
    "for i in x_train_vectors, x_test_vectors, y_train_vectors, y_test_vectors:\n",
    "    print(len(i))"
   ]
  },
  {
   "cell_type": "code",
   "execution_count": 10,
   "metadata": {},
   "outputs": [],
   "source": [
    "train_dataset = SignalClassificationDataset(signals=x_train_vectors,labels=y_train_vectors)\n",
    "test_dataset = SignalClassificationDataset(signals=x_test_vectors,labels=y_test_vectors)"
   ]
  },
  {
   "cell_type": "markdown",
   "metadata": {},
   "source": [
    "### Data Augmentation\n",
    "\n",
    "* enhance the 'natural' and 'no event' classes to improve training\n",
    "* each vector is sliced based on a sliding window\n",
    "* each vector has a small amount of random noise applied"
   ]
  },
  {
   "cell_type": "code",
   "execution_count": 11,
   "metadata": {},
   "outputs": [
    {
     "name": "stdout",
     "output_type": "stream",
     "text": [
      "size of new augmented training dataset 548\n"
     ]
    }
   ],
   "source": [
    "target_classes=[1,2]\n",
    "\n",
    "transformed_dataset = SignalClassificationDataset(signals=x_train_vectors,labels=y_train_vectors,transform=AugmentMinorityClass(target_classes=target_classes))\n",
    "transformed_indices = [i for i,(x,y) in enumerate(transformed_dataset) if y.item() in target_classes]\n",
    "augmented_dataset = Subset(transformed_dataset, transformed_indices)\n",
    "\n",
    "train_dataset = ConcatDataset((train_dataset,augmented_dataset))\n",
    "print('size of new augmented training dataset', len(train_dataset))"
   ]
  },
  {
   "cell_type": "code",
   "execution_count": 12,
   "metadata": {},
   "outputs": [],
   "source": [
    "# dataloader\n",
    "train_dataloader = DataLoader(train_dataset, batch_size=16, shuffle=True, collate_fn=pad_collate)\n",
    "test_dataloader = DataLoader(test_dataset, batch_size=16, shuffle=True, collate_fn=pad_collate)"
   ]
  },
  {
   "cell_type": "markdown",
   "metadata": {},
   "source": [
    "### LSTM"
   ]
  },
  {
   "cell_type": "code",
   "execution_count": null,
   "metadata": {},
   "outputs": [],
   "source": [
    "# model training hyperparameters\n",
    "input_size = len(X_features)\n",
    "output_size = len(y_class_encodings)\n",
    "hidden_size = 18\n",
    "num_layers = 7\n",
    "drop_out = 0.2\n",
    "n_epochs = 1000\n",
    "learning_rate = 0.001"
   ]
  },
  {
   "cell_type": "code",
   "execution_count": 14,
   "metadata": {},
   "outputs": [],
   "source": [
    "model = DynamicLSTM(input_size = input_size,\n",
    "                    hidden_size = hidden_size,\n",
    "                    num_layers = num_layers,\n",
    "                    drop_out = drop_out,\n",
    "                    output_size = output_size)\n",
    "\n",
    "criterion = nn.CrossEntropyLoss()\n",
    "optimizer = optim.Adam(model.parameters(), lr=learning_rate)"
   ]
  },
  {
   "cell_type": "markdown",
   "metadata": {},
   "source": [
    "### Training Loop"
   ]
  },
  {
   "cell_type": "code",
   "execution_count": null,
   "metadata": {},
   "outputs": [
    {
     "name": "stdout",
     "output_type": "stream",
     "text": [
      "Epoch: 1/50, Step 1, Training Loss 1.0554, Accuracy 0.6250\n",
      "Epoch: 1/50, Step 11, Training Loss 1.0470, Accuracy 0.6761\n",
      "Epoch: 1/50, Step 21, Training Loss 1.0341, Accuracy 0.6458\n",
      "Epoch: 1/50, Step 31, Training Loss 1.0191, Accuracy 0.6331\n",
      "Epoch: 2/50, Step 1, Training Loss 1.0017, Accuracy 0.6170\n",
      "Epoch: 2/50, Step 11, Training Loss 1.0287, Accuracy 0.6257\n",
      "Epoch: 2/50, Step 21, Training Loss 1.0847, Accuracy 0.6210\n",
      "Epoch: 2/50, Step 31, Training Loss 1.0002, Accuracy 0.6188\n",
      "Epoch: 3/50, Step 1, Training Loss 0.9795, Accuracy 0.6151\n",
      "Epoch: 3/50, Step 11, Training Loss 1.0131, Accuracy 0.6132\n",
      "Epoch: 3/50, Step 21, Training Loss 0.9661, Accuracy 0.6152\n",
      "Epoch: 3/50, Step 31, Training Loss 0.9955, Accuracy 0.6168\n",
      "Epoch: 4/50, Step 1, Training Loss 1.0029, Accuracy 0.6139\n",
      "Epoch: 4/50, Step 11, Training Loss 0.9919, Accuracy 0.6170\n",
      "Epoch: 4/50, Step 21, Training Loss 0.9447, Accuracy 0.6141\n",
      "Epoch: 4/50, Step 31, Training Loss 0.9789, Accuracy 0.6112\n",
      "Epoch: 5/50, Step 1, Training Loss 0.9309, Accuracy 0.6141\n",
      "Epoch: 5/50, Step 11, Training Loss 1.0184, Accuracy 0.6157\n",
      "Epoch: 5/50, Step 21, Training Loss 1.0278, Accuracy 0.6139\n",
      "Epoch: 5/50, Step 31, Training Loss 1.0678, Accuracy 0.6131\n",
      "Epoch: 6/50, Step 1, Training Loss 0.9432, Accuracy 0.6136\n",
      "Epoch: 6/50, Step 11, Training Loss 0.9101, Accuracy 0.6135\n",
      "Epoch: 6/50, Step 21, Training Loss 0.8835, Accuracy 0.6115\n",
      "Epoch: 6/50, Step 31, Training Loss 0.9312, Accuracy 0.6128\n",
      "Epoch: 7/50, Step 1, Training Loss 0.9389, Accuracy 0.6135\n",
      "Epoch: 7/50, Step 11, Training Loss 0.9078, Accuracy 0.6135\n",
      "Epoch: 7/50, Step 21, Training Loss 1.0356, Accuracy 0.6142\n",
      "Epoch: 7/50, Step 31, Training Loss 1.0202, Accuracy 0.6134\n",
      "Epoch: 8/50, Step 1, Training Loss 0.9679, Accuracy 0.6127\n",
      "Epoch: 8/50, Step 11, Training Loss 1.0188, Accuracy 0.6119\n",
      "Epoch: 8/50, Step 21, Training Loss 0.8970, Accuracy 0.6105\n",
      "Epoch: 8/50, Step 31, Training Loss 1.0009, Accuracy 0.6129\n",
      "Epoch: 9/50, Step 1, Training Loss 0.8934, Accuracy 0.6134\n",
      "Epoch: 9/50, Step 11, Training Loss 1.0425, Accuracy 0.6116\n",
      "Epoch: 9/50, Step 21, Training Loss 1.0267, Accuracy 0.6127\n",
      "Epoch: 9/50, Step 31, Training Loss 0.9563, Accuracy 0.6137\n",
      "Epoch: 10/50, Step 1, Training Loss 0.9237, Accuracy 0.6136\n",
      "Epoch: 10/50, Step 11, Training Loss 0.9790, Accuracy 0.6132\n",
      "Epoch: 10/50, Step 21, Training Loss 1.0246, Accuracy 0.6133\n",
      "Epoch: 10/50, Step 31, Training Loss 0.9008, Accuracy 0.6133\n",
      "Epoch: 11/50, Step 1, Training Loss 0.9506, Accuracy 0.6132\n",
      "Epoch: 11/50, Step 11, Training Loss 0.8759, Accuracy 0.6132\n",
      "Epoch: 11/50, Step 21, Training Loss 0.9661, Accuracy 0.6114\n",
      "Epoch: 11/50, Step 31, Training Loss 0.9609, Accuracy 0.6126\n",
      "Epoch: 12/50, Step 1, Training Loss 0.8343, Accuracy 0.6137\n",
      "Epoch: 12/50, Step 11, Training Loss 0.8841, Accuracy 0.6133\n",
      "Epoch: 12/50, Step 21, Training Loss 0.9831, Accuracy 0.6130\n",
      "Epoch: 12/50, Step 31, Training Loss 0.8502, Accuracy 0.6139\n",
      "Epoch: 13/50, Step 1, Training Loss 1.0176, Accuracy 0.6129\n",
      "Epoch: 13/50, Step 11, Training Loss 0.8247, Accuracy 0.6127\n",
      "Epoch: 13/50, Step 21, Training Loss 0.8756, Accuracy 0.6131\n",
      "Epoch: 13/50, Step 31, Training Loss 0.8164, Accuracy 0.6138\n",
      "Epoch: 14/50, Step 1, Training Loss 1.0087, Accuracy 0.6129\n",
      "Epoch: 14/50, Step 11, Training Loss 0.9775, Accuracy 0.6138\n",
      "Epoch: 14/50, Step 21, Training Loss 0.8665, Accuracy 0.6142\n",
      "Epoch: 14/50, Step 31, Training Loss 0.8076, Accuracy 0.6131\n",
      "Epoch: 15/50, Step 1, Training Loss 1.0061, Accuracy 0.6128\n",
      "Epoch: 15/50, Step 11, Training Loss 0.7759, Accuracy 0.6142\n",
      "Epoch: 15/50, Step 21, Training Loss 0.9753, Accuracy 0.6138\n",
      "Epoch: 15/50, Step 31, Training Loss 0.7979, Accuracy 0.6134\n",
      "Epoch: 16/50, Step 1, Training Loss 0.9500, Accuracy 0.6132\n",
      "Epoch: 16/50, Step 11, Training Loss 0.9087, Accuracy 0.6131\n",
      "Epoch: 16/50, Step 21, Training Loss 0.8820, Accuracy 0.6140\n",
      "Epoch: 16/50, Step 31, Training Loss 0.8763, Accuracy 0.6131\n",
      "Epoch: 17/50, Step 1, Training Loss 0.8717, Accuracy 0.6133\n",
      "Epoch: 17/50, Step 11, Training Loss 0.9343, Accuracy 0.6128\n",
      "Epoch: 17/50, Step 21, Training Loss 0.7874, Accuracy 0.6128\n",
      "Epoch: 17/50, Step 31, Training Loss 0.9080, Accuracy 0.6130\n",
      "Epoch: 18/50, Step 1, Training Loss 0.9203, Accuracy 0.6132\n",
      "Epoch: 18/50, Step 11, Training Loss 0.7508, Accuracy 0.6135\n",
      "Epoch: 18/50, Step 21, Training Loss 0.9160, Accuracy 0.6126\n",
      "Epoch: 18/50, Step 31, Training Loss 1.0204, Accuracy 0.6133\n",
      "Epoch: 19/50, Step 1, Training Loss 1.1576, Accuracy 0.6126\n",
      "Epoch: 19/50, Step 11, Training Loss 0.8972, Accuracy 0.6123\n",
      "Epoch: 19/50, Step 21, Training Loss 0.8954, Accuracy 0.6126\n",
      "Epoch: 19/50, Step 31, Training Loss 0.8633, Accuracy 0.6129\n",
      "Epoch: 20/50, Step 1, Training Loss 0.7689, Accuracy 0.6133\n",
      "Epoch: 20/50, Step 11, Training Loss 0.7963, Accuracy 0.6139\n",
      "Epoch: 20/50, Step 21, Training Loss 0.8966, Accuracy 0.6137\n",
      "Epoch: 20/50, Step 31, Training Loss 1.0317, Accuracy 0.6133\n",
      "Epoch: 21/50, Step 1, Training Loss 0.8648, Accuracy 0.6132\n",
      "Epoch: 21/50, Step 11, Training Loss 0.9308, Accuracy 0.6140\n",
      "Epoch: 21/50, Step 21, Training Loss 0.8624, Accuracy 0.6139\n",
      "Epoch: 21/50, Step 31, Training Loss 0.8192, Accuracy 0.6137\n",
      "Epoch: 22/50, Step 1, Training Loss 0.9611, Accuracy 0.6131\n",
      "Epoch: 22/50, Step 11, Training Loss 0.9375, Accuracy 0.6128\n",
      "Epoch: 22/50, Step 21, Training Loss 0.8171, Accuracy 0.6128\n",
      "Epoch: 22/50, Step 31, Training Loss 0.7350, Accuracy 0.6134\n",
      "Epoch: 23/50, Step 1, Training Loss 0.9562, Accuracy 0.6131\n",
      "Epoch: 23/50, Step 11, Training Loss 0.8124, Accuracy 0.6127\n",
      "Epoch: 23/50, Step 21, Training Loss 0.9093, Accuracy 0.6131\n",
      "Epoch: 23/50, Step 31, Training Loss 0.8886, Accuracy 0.6129\n",
      "Epoch: 24/50, Step 1, Training Loss 0.6810, Accuracy 0.6135\n",
      "Epoch: 24/50, Step 11, Training Loss 0.8236, Accuracy 0.6144\n",
      "Epoch: 24/50, Step 21, Training Loss 0.9532, Accuracy 0.6145\n",
      "Epoch: 24/50, Step 31, Training Loss 1.0357, Accuracy 0.6134\n",
      "Epoch: 25/50, Step 1, Training Loss 0.7742, Accuracy 0.6132\n",
      "Epoch: 25/50, Step 11, Training Loss 0.8061, Accuracy 0.6128\n",
      "Epoch: 25/50, Step 21, Training Loss 0.7735, Accuracy 0.6132\n",
      "Epoch: 25/50, Step 31, Training Loss 0.8718, Accuracy 0.6132\n",
      "Epoch: 26/50, Step 1, Training Loss 0.7797, Accuracy 0.6133\n",
      "Epoch: 26/50, Step 11, Training Loss 1.1293, Accuracy 0.6136\n",
      "Epoch: 26/50, Step 21, Training Loss 0.8351, Accuracy 0.6138\n",
      "Epoch: 26/50, Step 31, Training Loss 1.0121, Accuracy 0.6131\n",
      "Epoch: 27/50, Step 1, Training Loss 0.8953, Accuracy 0.6131\n",
      "Epoch: 27/50, Step 11, Training Loss 0.8017, Accuracy 0.6129\n",
      "Epoch: 27/50, Step 21, Training Loss 0.8508, Accuracy 0.6125\n",
      "Epoch: 27/50, Step 31, Training Loss 0.7635, Accuracy 0.6132\n",
      "Epoch: 28/50, Step 1, Training Loss 0.7963, Accuracy 0.6132\n",
      "Epoch: 28/50, Step 11, Training Loss 0.8631, Accuracy 0.6130\n",
      "Epoch: 28/50, Step 21, Training Loss 0.8934, Accuracy 0.6131\n",
      "Epoch: 28/50, Step 31, Training Loss 0.8278, Accuracy 0.6132\n",
      "Epoch: 29/50, Step 1, Training Loss 0.8495, Accuracy 0.6132\n",
      "Epoch: 29/50, Step 11, Training Loss 0.7596, Accuracy 0.6130\n",
      "Epoch: 29/50, Step 21, Training Loss 0.9752, Accuracy 0.6129\n",
      "Epoch: 29/50, Step 31, Training Loss 0.7226, Accuracy 0.6130\n",
      "Epoch: 30/50, Step 1, Training Loss 0.8811, Accuracy 0.6132\n",
      "Epoch: 30/50, Step 11, Training Loss 0.8471, Accuracy 0.6132\n",
      "Epoch: 30/50, Step 21, Training Loss 0.8824, Accuracy 0.6130\n",
      "Epoch: 30/50, Step 31, Training Loss 0.9385, Accuracy 0.6129\n",
      "Epoch: 31/50, Step 1, Training Loss 0.8459, Accuracy 0.6132\n",
      "Epoch: 31/50, Step 11, Training Loss 0.8530, Accuracy 0.6133\n",
      "Epoch: 31/50, Step 21, Training Loss 0.7822, Accuracy 0.6130\n",
      "Epoch: 31/50, Step 31, Training Loss 0.9561, Accuracy 0.6131\n",
      "Epoch: 32/50, Step 1, Training Loss 0.7125, Accuracy 0.6133\n",
      "Epoch: 32/50, Step 11, Training Loss 0.7508, Accuracy 0.6134\n",
      "Epoch: 32/50, Step 21, Training Loss 0.8809, Accuracy 0.6131\n",
      "Epoch: 32/50, Step 31, Training Loss 0.7746, Accuracy 0.6131\n",
      "Epoch: 33/50, Step 1, Training Loss 1.0288, Accuracy 0.6130\n",
      "Epoch: 33/50, Step 11, Training Loss 0.8360, Accuracy 0.6133\n",
      "Epoch: 33/50, Step 21, Training Loss 0.8123, Accuracy 0.6133\n",
      "Epoch: 33/50, Step 31, Training Loss 0.9330, Accuracy 0.6135\n",
      "Epoch: 34/50, Step 1, Training Loss 1.0569, Accuracy 0.6128\n",
      "Epoch: 34/50, Step 11, Training Loss 0.6406, Accuracy 0.6128\n",
      "Epoch: 34/50, Step 21, Training Loss 1.0111, Accuracy 0.6129\n",
      "Epoch: 34/50, Step 31, Training Loss 0.9140, Accuracy 0.6129\n",
      "Epoch: 35/50, Step 1, Training Loss 0.7788, Accuracy 0.6131\n",
      "Epoch: 35/50, Step 11, Training Loss 0.7078, Accuracy 0.6126\n",
      "Epoch: 35/50, Step 21, Training Loss 0.9263, Accuracy 0.6130\n",
      "Epoch: 35/50, Step 31, Training Loss 1.0815, Accuracy 0.6130\n",
      "Epoch: 36/50, Step 1, Training Loss 0.9809, Accuracy 0.6129\n",
      "Epoch: 36/50, Step 11, Training Loss 0.8965, Accuracy 0.6131\n",
      "Epoch: 36/50, Step 21, Training Loss 0.9302, Accuracy 0.6131\n",
      "Epoch: 36/50, Step 31, Training Loss 0.8383, Accuracy 0.6134\n",
      "Epoch: 37/50, Step 1, Training Loss 0.7345, Accuracy 0.6132\n",
      "Epoch: 37/50, Step 11, Training Loss 0.9459, Accuracy 0.6127\n",
      "Epoch: 37/50, Step 21, Training Loss 0.7682, Accuracy 0.6130\n",
      "Epoch: 37/50, Step 31, Training Loss 0.7309, Accuracy 0.6129\n",
      "Epoch: 38/50, Step 1, Training Loss 0.9416, Accuracy 0.6130\n",
      "Epoch: 38/50, Step 11, Training Loss 0.8246, Accuracy 0.6131\n",
      "Epoch: 38/50, Step 21, Training Loss 0.9977, Accuracy 0.6132\n",
      "Epoch: 38/50, Step 31, Training Loss 0.7637, Accuracy 0.6130\n",
      "Epoch: 39/50, Step 1, Training Loss 0.7620, Accuracy 0.6132\n",
      "Epoch: 39/50, Step 11, Training Loss 0.9889, Accuracy 0.6129\n",
      "Epoch: 39/50, Step 21, Training Loss 0.6929, Accuracy 0.6129\n",
      "Epoch: 39/50, Step 31, Training Loss 0.8694, Accuracy 0.6132\n",
      "Epoch: 40/50, Step 1, Training Loss 0.6555, Accuracy 0.6133\n",
      "Epoch: 40/50, Step 11, Training Loss 0.9116, Accuracy 0.6136\n",
      "Epoch: 40/50, Step 21, Training Loss 0.8846, Accuracy 0.6128\n",
      "Epoch: 40/50, Step 31, Training Loss 0.7990, Accuracy 0.6131\n",
      "Epoch: 41/50, Step 1, Training Loss 0.6915, Accuracy 0.6132\n",
      "Epoch: 41/50, Step 11, Training Loss 0.8686, Accuracy 0.6131\n",
      "Epoch: 41/50, Step 21, Training Loss 0.7221, Accuracy 0.6134\n",
      "Epoch: 41/50, Step 31, Training Loss 0.8031, Accuracy 0.6131\n",
      "Epoch: 42/50, Step 1, Training Loss 0.7967, Accuracy 0.6132\n",
      "Epoch: 42/50, Step 11, Training Loss 0.9788, Accuracy 0.6130\n",
      "Epoch: 42/50, Step 21, Training Loss 0.7936, Accuracy 0.6130\n",
      "Epoch: 42/50, Step 31, Training Loss 0.6494, Accuracy 0.6133\n",
      "Epoch: 43/50, Step 1, Training Loss 0.8311, Accuracy 0.6131\n",
      "Epoch: 43/50, Step 11, Training Loss 0.9206, Accuracy 0.6132\n",
      "Epoch: 43/50, Step 21, Training Loss 0.8288, Accuracy 0.6132\n",
      "Epoch: 43/50, Step 31, Training Loss 0.9055, Accuracy 0.6131\n",
      "Epoch: 44/50, Step 1, Training Loss 0.7609, Accuracy 0.6132\n",
      "Epoch: 44/50, Step 11, Training Loss 0.8448, Accuracy 0.6131\n",
      "Epoch: 44/50, Step 21, Training Loss 0.8667, Accuracy 0.6135\n",
      "Epoch: 44/50, Step 31, Training Loss 0.8871, Accuracy 0.6133\n",
      "Epoch: 45/50, Step 1, Training Loss 0.6438, Accuracy 0.6133\n",
      "Epoch: 45/50, Step 11, Training Loss 1.0495, Accuracy 0.6131\n",
      "Epoch: 45/50, Step 21, Training Loss 0.8435, Accuracy 0.6129\n",
      "Epoch: 45/50, Step 31, Training Loss 0.7957, Accuracy 0.6131\n",
      "Epoch: 46/50, Step 1, Training Loss 0.8723, Accuracy 0.6131\n",
      "Epoch: 46/50, Step 11, Training Loss 0.8278, Accuracy 0.6131\n",
      "Epoch: 46/50, Step 21, Training Loss 0.8322, Accuracy 0.6131\n",
      "Epoch: 46/50, Step 31, Training Loss 0.6424, Accuracy 0.6133\n",
      "Epoch: 47/50, Step 1, Training Loss 0.7572, Accuracy 0.6132\n",
      "Epoch: 47/50, Step 11, Training Loss 0.9025, Accuracy 0.6130\n",
      "Epoch: 47/50, Step 21, Training Loss 0.6053, Accuracy 0.6132\n",
      "Epoch: 47/50, Step 31, Training Loss 0.7498, Accuracy 0.6130\n",
      "Epoch: 48/50, Step 1, Training Loss 0.8646, Accuracy 0.6131\n",
      "Epoch: 48/50, Step 11, Training Loss 0.9727, Accuracy 0.6133\n",
      "Epoch: 48/50, Step 21, Training Loss 0.8737, Accuracy 0.6132\n",
      "Epoch: 48/50, Step 31, Training Loss 0.7199, Accuracy 0.6131\n",
      "Epoch: 49/50, Step 1, Training Loss 0.9473, Accuracy 0.6131\n",
      "Epoch: 49/50, Step 11, Training Loss 1.0059, Accuracy 0.6132\n",
      "Epoch: 49/50, Step 21, Training Loss 0.7453, Accuracy 0.6131\n",
      "Epoch: 49/50, Step 31, Training Loss 0.6371, Accuracy 0.6132\n",
      "Epoch: 50/50, Step 1, Training Loss 1.0323, Accuracy 0.6131\n",
      "Epoch: 50/50, Step 11, Training Loss 1.0956, Accuracy 0.6133\n",
      "Epoch: 50/50, Step 21, Training Loss 0.5604, Accuracy 0.6132\n",
      "Epoch: 50/50, Step 31, Training Loss 0.7806, Accuracy 0.6132\n"
     ]
    }
   ],
   "source": [
    "model.train()\n",
    "model.lstm_train(train_dataloader, criterion, optimizer, n_epochs = 1000)\n",
    "\n",
    "PATH = './dynamic_lstm.pth'\n",
    "torch.save(model.state_dict(), PATH)"
   ]
  },
  {
   "cell_type": "code",
   "execution_count": 17,
   "metadata": {},
   "outputs": [
    {
     "data": {
      "image/png": "[encoded data removed]",
      "text/plain": [
       "<Figure size 640x480 with 1 Axes>"
      ]
     },
     "metadata": {},
     "output_type": "display_data"
    }
   ],
   "source": [
    "training_loss = [loss.detach().numpy() for loss in model.train_loss_epoch]\n",
    "plt.plot(training_loss)\n",
    "plt.title('training cross entropy loss')\n",
    "plt.tight_layout()"
   ]
  },
  {
   "cell_type": "code",
   "execution_count": 18,
   "metadata": {},
   "outputs": [
    {
     "data": {
      "text/plain": [
       "Text(0.5, 1.0, 'training accuracy')"
      ]
     },
     "execution_count": 18,
     "metadata": {},
     "output_type": "execute_result"
    },
    {
     "data": {
      "image/png": "[encoded data removed]",
      "text/plain": [
       "<Figure size 640x480 with 1 Axes>"
      ]
     },
     "metadata": {},
     "output_type": "display_data"
    }
   ],
   "source": [
    "plt.plot(model.train_accuracy_epoch)\n",
    "plt.title('training accuracy')"
   ]
  },
  {
   "cell_type": "code",
   "execution_count": null,
   "metadata": {},
   "outputs": [],
   "source": [
    "# model = DynamicLSTM()\n",
    "# model.load_state_dict(torch.load(PATH, weights_only=True))"
   ]
  },
  {
   "cell_type": "code",
   "execution_count": null,
   "metadata": {},
   "outputs": [
    {
     "name": "stdout",
     "output_type": "stream",
     "text": [
      "Epoch: 48/1000, Step 1, Test Loss 0.7972, Accuracy 0.7500\n",
      "Epoch: 48/1000, Step 2, Test Loss 0.7156, Accuracy 0.7188\n",
      "Epoch: 48/1000, Step 3, Test Loss 0.5311, Accuracy 0.7917\n",
      "Epoch: 48/1000, Step 4, Test Loss 0.6035, Accuracy 0.7969\n",
      "Epoch: 48/1000, Step 5, Test Loss 0.7122, Accuracy 0.7625\n",
      "Epoch: 48/1000, Step 6, Test Loss 0.7484, Accuracy 0.7292\n",
      "Epoch: 48/1000, Step 7, Test Loss 0.6186, Accuracy 0.7364\n"
     ]
    }
   ],
   "source": [
    "# Test - we don't compute gradients\n",
    "model.eval()\n",
    "with torch.no_grad():\n",
    "\n",
    "    n_samples = 0\n",
    "    n_correct = 0\n",
    "    test_logits = []\n",
    "    test_loss = []\n",
    "    test_pred = []\n",
    "    test_accuracy = []\n",
    "\n",
    "    for i, (x, y, x_lens, y_lens) in enumerate(test_dataloader):\n",
    "        y = y.view(-1)\n",
    "\n",
    "        out, __ = model(x, x_lens)\n",
    "        loss = criterion(out, y)\n",
    "        test_logits == [out]\n",
    "        test_loss += [loss]\n",
    "    \n",
    "        # predict\n",
    "        __, predicted = torch.max(out, 1)\n",
    "        test_pred += [predicted]\n",
    "    \n",
    "        # track accuracy\n",
    "        correct = (predicted == y).sum().detach().numpy()\n",
    "        n_samples += y.size(0)\n",
    "        n_correct += correct\n",
    "        test_accuracy += [n_correct / n_samples]\n",
    "         \n",
    "        # evaluate periodically\n",
    "        if (i+1) % 100 != 0:\n",
    "            print(f\"Step {i+1}, Test Loss {loss.item():.4f}, Accuracy {n_correct/n_samples:.4f}\")"
   ]
  },
  {
   "cell_type": "markdown",
   "metadata": {},
   "source": [
    "# Evaluation"
   ]
  },
  {
   "cell_type": "code",
   "execution_count": null,
   "metadata": {},
   "outputs": [],
   "source": []
  }
 ],
 "metadata": {
  "kernelspec": {
   "display_name": "powerenv-3.13.2",
   "language": "python",
   "name": "python3"
  },
  "language_info": {
   "codemirror_mode": {
    "name": "ipython",
    "version": 3
   },
   "file_extension": ".py",
   "mimetype": "text/x-python",
   "name": "python",
   "nbconvert_exporter": "python",
   "pygments_lexer": "ipython3",
   "version": "3.13.2"
  }
 },
 "nbformat": 4,
 "nbformat_minor": 2
}
